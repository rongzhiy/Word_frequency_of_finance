{
 "cells": [
  {
   "cell_type": "code",
   "execution_count": 1,
   "metadata": {},
   "outputs": [
    {
     "name": "stderr",
     "output_type": "stream",
     "text": [
      "d:\\miniconda3\\envs\\mytorch\\lib\\site-packages\\numpy\\_distributor_init.py:30: UserWarning: loaded more than 1 DLL from .libs:\n",
      "d:\\miniconda3\\envs\\mytorch\\lib\\site-packages\\numpy\\.libs\\libopenblas.XWYDX2IKJW2NMTWSFYNGFUWKQU3LYTCZ.gfortran-win_amd64.dll\n",
      "d:\\miniconda3\\envs\\mytorch\\lib\\site-packages\\numpy\\.libs\\libopenblas64__v0.3.21-gcc_10_3_0.dll\n",
      "  warnings.warn(\"loaded more than 1 DLL from .libs:\"\n"
     ]
    },
    {
     "name": "stdout",
     "output_type": "stream",
     "text": [
      "       code  firm   year                                            pdf_url\n",
      "0    000001  平安银行  2020年  http://static.cninfo.com.cn/finalpage/2021-02-...\n",
      "1    000001  平安银行  2019年  http://static.cninfo.com.cn/finalpage/2020-02-...\n",
      "2    000001  平安银行  2018年  http://static.cninfo.com.cn/finalpage/2019-03-...\n",
      "3    000001  平安银行  2017年  http://static.cninfo.com.cn/finalpage/2018-03-...\n",
      "4    000001  平安银行  2016年  http://static.cninfo.com.cn/finalpage/2017-03-...\n",
      "..      ...   ...    ...                                                ...\n",
      "115  000031   大悦城  2020年                                                NaN\n",
      "116  000031   大悦城  2019年                                                NaN\n",
      "117  000031   大悦城  2018年                                                NaN\n",
      "118  000031  中粮地产  2017年                                                NaN\n",
      "119  000031  中粮地产  2016年                                                NaN\n",
      "\n",
      "[120 rows x 4 columns]\n"
     ]
    }
   ],
   "source": [
    "import pandas as pd\n",
    "\n",
    "# pd.set_option('max_columns', 100)\n",
    "# pd.set_option('max_colwidth', 100)\n",
    "\n",
    "df1=pd.read_excel('./aim_data.xlsx',dtype={'code':str})  # 读取目标数据\n",
    "df2=pd.read_excel('./all_url_data.xlsx',dtype={'code':str}) # 读取所有数据\n",
    "\n",
    "df3=pd.merge(df1,df2,on=['code','year'],how='left') \n",
    "\n",
    "df4=df3.loc[:,['code','firm','year','pdf_url']] \n",
    "df4.to_excel('./merged_data.xlsx',index=False) # 保存数据\n",
    "\n",
    "print(df4)\n"
   ]
  }
 ],
 "metadata": {
  "kernelspec": {
   "display_name": "mytorch",
   "language": "python",
   "name": "python3"
  },
  "language_info": {
   "codemirror_mode": {
    "name": "ipython",
    "version": 3
   },
   "file_extension": ".py",
   "mimetype": "text/x-python",
   "name": "python",
   "nbconvert_exporter": "python",
   "pygments_lexer": "ipython3",
   "version": "3.10.4"
  }
 },
 "nbformat": 4,
 "nbformat_minor": 2
}
