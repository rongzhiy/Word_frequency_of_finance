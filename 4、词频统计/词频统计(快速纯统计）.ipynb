{
 "cells": [
  {
   "cell_type": "code",
   "execution_count": 9,
   "metadata": {},
   "outputs": [
    {
     "name": "stdout",
     "output_type": "stream",
     "text": [
      "正在统计000001-S深发展A-2006年年度报告.txt\n",
      "正在统计000001-平安银行-2017年年度报告.txt\n",
      "正在统计000001-平安银行-2018年年度报告.txt\n"
     ]
    }
   ],
   "source": [
    "import xlwt\n",
    "import os\n",
    "# 加载txt列表寻找关键词并保存到excel\n",
    "def matchKeyWords(ThePath, keyWords,aim_path):\n",
    "    dir_list = os.listdir(ThePath)\n",
    "    book = xlwt.Workbook(encoding='utf-8', style_compression=0)\n",
    "    sheet = book.add_sheet('年报关键词词频统计', cell_overwrite_ok=True)\n",
    "    sheet.write(0, 0, '股票代码')\n",
    "    sheet.write(0, 1, '股票名称')\n",
    "    sheet.write(0, 2, '年份')\n",
    "    for i,c_word in enumerate(keyWords):\n",
    "        sheet.write(0, i+3, c_word)\n",
    "    index=0\n",
    "    for dir in dir_list:\n",
    "        dir_path = ThePath + '\\\\' + dir\n",
    "        files = os.listdir(dir_path)\n",
    "        for file in files:\n",
    "            if os.path.splitext(file)[-1] == \".txt\":\n",
    "                txt_path = os.path.join(dir_path, file)\n",
    "                stock_code = dir.split(\"-\")[0]\n",
    "                stock_name = dir.split(\"-\")[1]\n",
    "                year = file[0:4]\n",
    "                sheet.write(index + 1, 0, stock_code)\n",
    "                sheet.write(index + 1, 1, stock_name)\n",
    "                sheet.write(index + 1, 2, year)\n",
    "                print(f'正在统计{dir}-{file}')\n",
    "                with open(txt_path, \"r\", encoding='utf-8', errors='ignore')as fp:\n",
    "                    text = fp.read()\n",
    "                    for ind,word in enumerate(keyWords):\n",
    "                        word_freq=text.count(word)\n",
    "                        sheet.write(index + 1, ind + 3, str(word_freq))\n",
    "                index+=1\n",
    "    book.save(aim_path)\n",
    "\n",
    "ThePath= r'../2、下载pdf年报/年报txt版本'\n",
    "aim_path=r'../2、下载pdf年报/词频统计'\n",
    "keywords = ['营业收入','估值','资产','股东','公司治理']\n",
    "matchKeyWords(ThePath, keywords,f'{aim_path}\\词频统计.xlsx')\n"
   ]
  },
  {
   "cell_type": "code",
   "execution_count": 11,
   "metadata": {},
   "outputs": [
    {
     "name": "stdout",
     "output_type": "stream",
     "text": [
      "正在统计000001-S深发展A-2006年年度报告.txt\n",
      "正在统计000001-平安银行-2017年年度报告.txt\n",
      "正在统计000001-平安银行-2018年年度报告.txt\n"
     ]
    }
   ],
   "source": [
    "#python 3.10\n",
    "#pip install -i https://pypi.tuna.tsinghua.edu.cn/simple jieba\n",
    "import jieba\n",
    "import xlwt\n",
    "import os\n",
    "\n",
    "# 加载txt列表寻找关键词并保存到excel\n",
    "def matchKeyWords(ThePath, keyWords,aim_path):\n",
    "    dir_list = os.listdir(ThePath)\n",
    "    book = xlwt.Workbook(encoding='utf-8', style_compression=0)\n",
    "    sheet = book.add_sheet('年报关键词词频统计', cell_overwrite_ok=True)\n",
    "    sheet.write(0, 0, '股票代码')\n",
    "    sheet.write(0, 1, '股票名称')\n",
    "    sheet.write(0, 2, '年份')\n",
    "    for i,c_word in enumerate(keyWords):\n",
    "        sheet.write(0, i+3, c_word)\n",
    "    index=0\n",
    "    for dir in dir_list:\n",
    "        dir_path = ThePath + '\\\\' + dir\n",
    "        files = os.listdir(dir_path)\n",
    "        for file in files:\n",
    "            if os.path.splitext(file)[-1] == \".txt\":\n",
    "                txt_path = os.path.join(dir_path, file)\n",
    "                stock_code = dir.split(\"-\")[0]\n",
    "                stock_name = dir.split(\"-\")[1]\n",
    "                year = file[0:4]\n",
    "                sheet.write(index + 1, 0, stock_code)\n",
    "                sheet.write(index + 1, 1, stock_name)\n",
    "                sheet.write(index + 1, 2, year)\n",
    "                print(f'正在统计{dir}-{file}')\n",
    "                with open(txt_path, \"r\", encoding='utf-8', errors='ignore')as fp:\n",
    "                    text = fp.read()\n",
    "                    words_list = list(jieba.cut(text))#jieba分词\n",
    "                    # print(words_list)\n",
    "                    for ind,word in enumerate(keyWords):\n",
    "                        word_freq = words_list.count(word)#统计词频\n",
    "                        sheet.write(index + 1, ind + 3, str(word_freq))\n",
    "                index+=1\n",
    "    book.save(aim_path)\n",
    "\n",
    "ThePath= r'../2、下载pdf年报/年报txt版本'\n",
    "aim_path=r'../2、下载pdf年报/词频统计'\n",
    "\n",
    "keywords = ['营业收入','估值','资产','股东','智能数据分析','智能机器人','机器学习','深度学习']\n",
    "matchKeyWords(ThePath, keywords,f'{aim_path}\\词频统计—Jieba.xls')\n",
    "\n"
   ]
  }
 ],
 "metadata": {
  "kernelspec": {
   "display_name": "mytorch",
   "language": "python",
   "name": "python3"
  },
  "language_info": {
   "codemirror_mode": {
    "name": "ipython",
    "version": 3
   },
   "file_extension": ".py",
   "mimetype": "text/x-python",
   "name": "python",
   "nbconvert_exporter": "python",
   "pygments_lexer": "ipython3",
   "version": "3.10.4"
  }
 },
 "nbformat": 4,
 "nbformat_minor": 2
}
